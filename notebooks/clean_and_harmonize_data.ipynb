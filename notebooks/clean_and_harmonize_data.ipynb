{
 "cells": [
  {
   "cell_type": "code",
   "execution_count": 2,
   "id": "faced-enforcement",
   "metadata": {},
   "outputs": [],
   "source": [
    "import os \n",
    "import glob\n",
    "from scipy.io import loadmat, savemat\n",
    "import pickle as pkl"
   ]
  },
  {
   "cell_type": "code",
   "execution_count": 7,
   "id": "interracial-stock",
   "metadata": {},
   "outputs": [
    {
     "name": "stdout",
     "output_type": "stream",
     "text": [
      "Train: 100\n",
      "Val: 100\n",
      "Benchmark: 4\n",
      "Raw: 10\n"
     ]
    }
   ],
   "source": [
    "train_pkls = glob.glob('../../../datasets/Data_23042020_noisy/train/*.pkl')\n",
    "print ('Train:', len(train_pkls))\n",
    "val_pkls = glob.glob('../../../datasets/Data_23042020_noisy/val/*.pkl')\n",
    "print ('Val:', len(val_pkls))\n",
    "benchmark_pkls = glob.glob('../../../datasets/Data_23042020_noisy/benchmark/*.pkl')\n",
    "print ('Benchmark:', len(benchmark_pkls))\n",
    "raw_mats = glob.glob('../../../datasets/Data_23042020_noisy/raw/*.mat')\n",
    "print ('Raw:', len(raw_mats))"
   ]
  },
  {
   "cell_type": "code",
   "execution_count": 11,
   "id": "geographic-briefing",
   "metadata": {},
   "outputs": [],
   "source": [
    "fin = open(train_pkls[0], 'rb')\n",
    "train_sample = pkl.load(fin)\n",
    "fin.close()\n",
    "\n",
    "fin = open(val_pkls[0], 'rb')\n",
    "val_sample = pkl.load(fin)\n",
    "fin.close()\n",
    "\n",
    "fin = open(benchmark_pkls[0], 'rb')\n",
    "benchmark_sample = pkl.load(fin)\n",
    "fin.close()\n",
    "\n",
    "raw_sample = loadmat(raw_mats[0])"
   ]
  },
  {
   "cell_type": "code",
   "execution_count": 20,
   "id": "southern-advantage",
   "metadata": {},
   "outputs": [
    {
     "name": "stdout",
     "output_type": "stream",
     "text": [
      "Train Sample Keys\n",
      "dict_keys(['voltage_d', 'voltage_q', 'current_d', 'current_q', 'torque', 'speed', 'statorPuls', 'time', 'reference_torque_interp', 'reference_speed_interp', 'reference_torque', 'reference_speed', 'torque_time', 'speed_time', 'noisy_current_d', 'noisy_current_q', 'noisy_voltage_d', 'noisy_voltage_q'])\n",
      "-46.99934659995759 -108.65000728620117\n",
      "36.30022282079326 223.68110738919583\n",
      "\n",
      "\n",
      "Val Sample Keys\n",
      "dict_keys(['voltage_d', 'voltage_q', 'current_d', 'current_q', 'torque', 'speed', 'statorPuls', 'time', 'reference_torque_interp', 'reference_speed_interp', 'reference_torque', 'reference_speed', 'torque_time', 'speed_time', 'noisy_current_d', 'noisy_current_q', 'noisy_voltage_d', 'noisy_voltage_q'])\n",
      "-65.07439460163381 -221.33321791127574\n",
      "64.59089946035814 81.73566589923782\n",
      "\n",
      "\n",
      "Benchmark Sample Keys\n",
      "dict_keys(['voltage_d', 'voltage_q', 'current_d', 'current_q', 'torque', 'speed', 'statorPuls', 'time', 'reference_torque_interp', 'reference_speed_interp', 'reference_torque', 'reference_speed', 'torque_time', 'speed_time', 'noisy_current_d', 'noisy_current_q', 'noisy_voltage_d', 'noisy_voltage_q'])\n",
      "-50.06324602018842 -1.6338380173481837\n",
      "50.12344236845919 3.158514746129394\n",
      "\n",
      "\n",
      "Raw Sample Keys\n",
      "dict_keys(['__header__', '__version__', '__globals__', 'IdMeas_A', 'IqMeas_A', 'Speed_Hz', 'Time', 'Time_I', 'Time_VSpdTq', 'Torque_PercTnom', 'VariableD', 'VariableQ', 'VariableSpd', 'VariableTq', 'VdRef_V', 'VqRef_V', 'aa', 'bb'])\n",
      "-100.31890869140625 -155.1025390625\n",
      "249.93896484375 799.90234375\n"
     ]
    }
   ],
   "source": [
    "print ('Train Sample Keys')\n",
    "print (train_sample.keys())\n",
    "print (train_sample['speed'].min(), train_sample['torque'].min())\n",
    "print (train_sample['speed'].max(), train_sample['torque'].max())\n",
    "\n",
    "print ('\\n\\nVal Sample Keys')\n",
    "print (val_sample.keys())\n",
    "print (val_sample['speed'].min(), val_sample['torque'].min())\n",
    "print (val_sample['speed'].max(), val_sample['torque'].max())\n",
    "\n",
    "print ('\\n\\nBenchmark Sample Keys')\n",
    "print (benchmark_sample.keys())\n",
    "print (benchmark_sample['speed'].min(), benchmark_sample['torque'].min())\n",
    "print (benchmark_sample['speed'].max(), benchmark_sample['torque'].max())\n",
    "\n",
    "\n",
    "print ('\\n\\nRaw Sample Keys')\n",
    "print (raw_sample.keys())\n",
    "print (raw_sample['Speed_Hz'].min(), raw_sample['Torque_PercTnom'].min())\n",
    "print (raw_sample['Speed_Hz'].max(), raw_sample['Torque_PercTnom'].max())"
   ]
  },
  {
   "cell_type": "code",
   "execution_count": 21,
   "id": "adolescent-dispatch",
   "metadata": {},
   "outputs": [],
   "source": [
    "def make_mat(pkl_path):\n",
    "    fin = open(pkl_path, 'rb')\n",
    "    data = pkl.load(fin)\n",
    "    fin.close()\n",
    "    \n",
    "    savemat(pkl_path.replace('pkl', 'mat'), data)\n",
    "    \n",
    "\n",
    "for pkl_path in train_pkls + val_pkls + benchmark_pkls:\n",
    "    make_mat(pkl_path)"
   ]
  },
  {
   "cell_type": "code",
   "execution_count": null,
   "id": "rubber-fellow",
   "metadata": {},
   "outputs": [],
   "source": []
  }
 ],
 "metadata": {
  "kernelspec": {
   "display_name": "Python 3",
   "language": "python",
   "name": "python3"
  },
  "language_info": {
   "codemirror_mode": {
    "name": "ipython",
    "version": 3
   },
   "file_extension": ".py",
   "mimetype": "text/x-python",
   "name": "python",
   "nbconvert_exporter": "python",
   "pygments_lexer": "ipython3",
   "version": "3.8.5"
  }
 },
 "nbformat": 4,
 "nbformat_minor": 5
}
