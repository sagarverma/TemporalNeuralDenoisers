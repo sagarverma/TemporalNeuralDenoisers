{
 "cells": [
  {
   "cell_type": "code",
   "execution_count": 1,
   "id": "equivalent-abraham",
   "metadata": {},
   "outputs": [],
   "source": [
    "import os\n",
    "import glob\n",
    "\n",
    "from scipy.io import loadmat, savemat\n",
    "import pickle as pkl\n",
    "import numpy as np\n",
    "\n",
    "%matplotlib inline\n",
    "import matplotlib.pyplot as plt"
   ]
  },
  {
   "cell_type": "code",
   "execution_count": 2,
   "id": "tender-flush",
   "metadata": {},
   "outputs": [],
   "source": [
    "files = glob.glob('../../../datasets/Data_27012021_noisy/benchmark/*.pkl')\n",
    "\n",
    "for file in files:\n",
    "    fin = open(file, 'rb')\n",
    "    bench1 = pkl.load(fin)\n",
    "    fin.close()\n",
    "\n",
    "    bench1['noisy_current_d'] = bench1['current_d'] + np.random.normal(0, 0.17, bench1['current_d'].shape)\n",
    "    bench1['noisy_current_q'] = bench1['current_q'] + np.random.normal(0, 0.29, bench1['current_q'].shape)\n",
    "\n",
    "    bench1['noisy_voltage_d'] = bench1['voltage_d'] + np.random.normal(0, 1.85, bench1['voltage_d'].shape)\n",
    "    bench1['noisy_voltage_q'] = bench1['voltage_q'] + np.random.normal(0, 1.78, bench1['voltage_q'].shape)\n",
    "\n",
    "    savemat(file.replace('pkl', 'mat'), bench1)"
   ]
  },
  {
   "cell_type": "code",
   "execution_count": 22,
   "id": "completed-finance",
   "metadata": {},
   "outputs": [],
   "source": [
    "files = glob.glob('../../../datasets/Data_27012021_noisy/train/*.pkl')\n",
    "\n",
    "for file in files:\n",
    "    fin = open(file, 'rb')\n",
    "    data = pkl.load(fin)\n",
    "    fin.close()\n",
    "\n",
    "    data['noisy_current_d'] = data['current_d'] + np.random.normal(0, 0.17, data['current_d'].shape)\n",
    "    data['noisy_current_q'] = data['current_q'] + np.random.normal(0, 0.29, data['current_q'].shape)\n",
    "\n",
    "    data['noisy_voltage_d'] = data['voltage_d'] + np.random.normal(0, 1.85, data['voltage_d'].shape)\n",
    "    data['noisy_voltage_q'] = data['voltage_q'] + np.random.normal(0, 1.78, data['voltage_q'].shape)\n",
    "\n",
    "    savemat(file.replace('pkl', 'mat'), data)"
   ]
  },
  {
   "cell_type": "code",
   "execution_count": 23,
   "id": "boolean-camera",
   "metadata": {},
   "outputs": [],
   "source": [
    "files = glob.glob('../../../datasets/Data_27012021_noisy/val/*.pkl')\n",
    "\n",
    "for file in files:\n",
    "    fin = open(file, 'rb')\n",
    "    data = pkl.load(fin)\n",
    "    fin.close()\n",
    "\n",
    "    data['noisy_current_d'] = data['current_d'] + np.random.normal(0, 0.17, data['current_d'].shape)\n",
    "    data['noisy_current_q'] = data['current_q'] + np.random.normal(0, 0.29, data['current_q'].shape)\n",
    "\n",
    "    data['noisy_voltage_d'] = data['voltage_d'] + np.random.normal(0, 1.85, data['voltage_d'].shape)\n",
    "    data['noisy_voltage_q'] = data['voltage_q'] + np.random.normal(0, 1.78, data['voltage_q'].shape)\n",
    "\n",
    "    savemat(file.replace('pkl', 'mat'), data)"
   ]
  },
  {
   "cell_type": "code",
   "execution_count": null,
   "id": "played-publicity",
   "metadata": {},
   "outputs": [],
   "source": []
  }
 ],
 "metadata": {
  "kernelspec": {
   "display_name": "Python 3",
   "language": "python",
   "name": "python3"
  },
  "language_info": {
   "codemirror_mode": {
    "name": "ipython",
    "version": 3
   },
   "file_extension": ".py",
   "mimetype": "text/x-python",
   "name": "python",
   "nbconvert_exporter": "python",
   "pygments_lexer": "ipython3",
   "version": "3.8.5"
  }
 },
 "nbformat": 4,
 "nbformat_minor": 5
}
