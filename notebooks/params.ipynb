{
 "cells": [
  {
   "cell_type": "code",
   "execution_count": 6,
   "id": "3c3d0569-35c7-40d3-9a29-dea3fa9fa287",
   "metadata": {},
   "outputs": [],
   "source": [
    "import torch\n",
    "import numpy as np \n",
    "\n",
    "from timedenoiser.models.encdec import EncDecDiagBiRNNSkip\n",
    "from timedenoiser.models.encdec import LightEncDec"
   ]
  },
  {
   "cell_type": "code",
   "execution_count": 4,
   "id": "41a68256-8402-4b37-bdfa-91cd480a503c",
   "metadata": {},
   "outputs": [],
   "source": [
    "model1 = EncDecDiagBiRNNSkip(4, 2)\n",
    "model2 = LightEncDec(4, 2)"
   ]
  },
  {
   "cell_type": "code",
   "execution_count": 7,
   "id": "1c352013-8c2c-4364-adb0-be55eee97322",
   "metadata": {},
   "outputs": [
    {
     "data": {
      "text/plain": [
       "619746"
      ]
     },
     "execution_count": 7,
     "metadata": {},
     "output_type": "execute_result"
    }
   ],
   "source": [
    "sum([np.prod(p.size()) for p in model1.parameters()])"
   ]
  },
  {
   "cell_type": "code",
   "execution_count": 8,
   "id": "cb611621-6bfb-4be3-ab3d-cc7c52440ad0",
   "metadata": {},
   "outputs": [
    {
     "data": {
      "text/plain": [
       "20210"
      ]
     },
     "execution_count": 8,
     "metadata": {},
     "output_type": "execute_result"
    }
   ],
   "source": [
    "sum([np.prod(p.size()) for p in model2.parameters()])"
   ]
  },
  {
   "cell_type": "code",
   "execution_count": 10,
   "id": "fd634b9f-4836-4513-87aa-efe136855cf7",
   "metadata": {},
   "outputs": [
    {
     "data": {
      "text/plain": [
       "2420.8828125"
      ]
     },
     "execution_count": 10,
     "metadata": {},
     "output_type": "execute_result"
    }
   ],
   "source": [
    "619746 * 32/8 / 1024 "
   ]
  },
  {
   "cell_type": "code",
   "execution_count": 11,
   "id": "e4893b84-8348-46ae-98b0-8eabeaee1896",
   "metadata": {},
   "outputs": [
    {
     "data": {
      "text/plain": [
       "157.890625"
      ]
     },
     "execution_count": 11,
     "metadata": {},
     "output_type": "execute_result"
    }
   ],
   "source": [
    "20210 * 32/4 / 1024"
   ]
  },
  {
   "cell_type": "code",
   "execution_count": null,
   "id": "298d3e65-4ed8-4532-95aa-5acf8a5a3da4",
   "metadata": {},
   "outputs": [],
   "source": []
  }
 ],
 "metadata": {
  "kernelspec": {
   "display_name": "Python 3 (ipykernel)",
   "language": "python",
   "name": "python3"
  },
  "language_info": {
   "codemirror_mode": {
    "name": "ipython",
    "version": 3
   },
   "file_extension": ".py",
   "mimetype": "text/x-python",
   "name": "python",
   "nbconvert_exporter": "python",
   "pygments_lexer": "ipython3",
   "version": "3.8.5"
  }
 },
 "nbformat": 4,
 "nbformat_minor": 5
}
