{
 "cells": [
  {
   "cell_type": "code",
   "execution_count": 26,
   "id": "49e69274-dd42-4d10-832c-edec28d5c88b",
   "metadata": {},
   "outputs": [],
   "source": [
    "from thop import profile\n",
    "import torch\n",
    "import torch.nn.utils.prune as prune\n",
    "\n",
    "from timedenoiser.models.encdec import ShallowEncDec, EncDecDiagBiRNNSkip"
   ]
  },
  {
   "cell_type": "code",
   "execution_count": 29,
   "id": "cd7f4ff1-f3d8-479f-bdec-1cf65a1e2eb3",
   "metadata": {},
   "outputs": [],
   "source": [
    "def print_nonzeros(model):\n",
    "    nonzero = total = 0\n",
    "    for name, p in model.named_parameters():\n",
    "        if 'mask' in name:\n",
    "            continue\n",
    "        tensor = p.data.cpu().numpy()\n",
    "        nz_count = np.count_nonzero(tensor)\n",
    "        total_params = np.prod(tensor.shape)\n",
    "        nonzero += nz_count\n",
    "        total += total_params\n",
    "        print(f\"{name:20} | nonzeros = {nz_count:7} / {total_params:7}\" +\n",
    "              f\"({100 * nz_count / total_params:6.2f}%) | total_pruned =\" +\n",
    "              f\"{total_params - nz_count :7} | shape = {tensor.shape}\")\n",
    "    print(f\"alive: {nonzero}, pruned : {total - nonzero},\" +\n",
    "          f\"total: {total}, Compression rate : {total/nonzero:10.2f}x\" +\n",
    "          f\"({100 * (total-nonzero) / total:6.2f}% pruned)\")"
   ]
  },
  {
   "cell_type": "code",
   "execution_count": 20,
   "id": "1f9ae0a9-97b2-40fe-a4e0-80d6bd2cb620",
   "metadata": {},
   "outputs": [
    {
     "data": {
      "text/plain": [
       "(25353680.0, 310468.0)"
      ]
     },
     "execution_count": 20,
     "metadata": {},
     "output_type": "execute_result"
    }
   ],
   "source": [
    "macs, params"
   ]
  },
  {
   "cell_type": "code",
   "execution_count": 21,
   "id": "1ea59f14-3a3c-4b03-8813-c0d6450eda42",
   "metadata": {},
   "outputs": [
    {
     "name": "stdout",
     "output_type": "stream",
     "text": [
      "[INFO] Register count_convNd() for <class 'torch.nn.modules.conv.Conv1d'>.\n",
      "\u001b[91m[WARN] Cannot find rule for <class 'torch.nn.modules.activation.Tanh'>. Treat it as zero Macs and zero Params.\u001b[00m\n",
      "\u001b[91m[WARN] Cannot find rule for <class 'timedenoiser.models.indrnn.IndRNNCell'>. Treat it as zero Macs and zero Params.\u001b[00m\n",
      "\u001b[91m[WARN] Cannot find rule for <class 'timedenoiser.models.indrnn.IndRNN'>. Treat it as zero Macs and zero Params.\u001b[00m\n",
      "[INFO] Register count_convNd() for <class 'torch.nn.modules.conv.ConvTranspose1d'>.\n",
      "[INFO] Register zero_ops() for <class 'torch.nn.modules.activation.ReLU'>.\n",
      "\u001b[91m[WARN] Cannot find rule for <class 'timedenoiser.models.encdec.EncDecDiagBiRNNSkip'>. Treat it as zero Macs and zero Params.\u001b[00m\n"
     ]
    }
   ],
   "source": [
    "speedtorque = EncDecDiagBiRNNSkip(4, 4)\n",
    "inp = torch.randn(1, 4, 100)\n",
    "macs, params = profile(speedtorque, inputs=(inp, ))"
   ]
  },
  {
   "cell_type": "code",
   "execution_count": 22,
   "id": "6ba7f200-a5cc-4a04-a1bc-9a33223dd39d",
   "metadata": {},
   "outputs": [
    {
     "data": {
      "text/plain": [
       "(51107280.0, 620228.0)"
      ]
     },
     "execution_count": 22,
     "metadata": {},
     "output_type": "execute_result"
    }
   ],
   "source": [
    "macs, params"
   ]
  },
  {
   "cell_type": "code",
   "execution_count": 28,
   "id": "52d9d7e8-144e-45a1-aa98-597a0fab91b3",
   "metadata": {},
   "outputs": [
    {
     "name": "stdout",
     "output_type": "stream",
     "text": [
      "[INFO] Register count_convNd() for <class 'torch.nn.modules.conv.Conv1d'>.\n",
      "[INFO] Register count_convNd() for <class 'torch.nn.modules.conv.ConvTranspose1d'>.\n",
      "[INFO] Register zero_ops() for <class 'torch.nn.modules.activation.ReLU'>.\n",
      "\u001b[91m[WARN] Cannot find rule for <class 'timedenoiser.models.encdec.ShallowEncDec'>. Treat it as zero Macs and zero Params.\u001b[00m\n",
      "[INFO] Register count_convNd() for <class 'torch.nn.modules.conv.Conv1d'>.\n",
      "\u001b[91m[WARN] Cannot find rule for <class 'torch.nn.modules.activation.Tanh'>. Treat it as zero Macs and zero Params.\u001b[00m\n",
      "\u001b[91m[WARN] Cannot find rule for <class 'timedenoiser.models.indrnn.IndRNNCell'>. Treat it as zero Macs and zero Params.\u001b[00m\n",
      "\u001b[91m[WARN] Cannot find rule for <class 'timedenoiser.models.indrnn.IndRNN'>. Treat it as zero Macs and zero Params.\u001b[00m\n",
      "[INFO] Register count_convNd() for <class 'torch.nn.modules.conv.ConvTranspose1d'>.\n",
      "[INFO] Register zero_ops() for <class 'torch.nn.modules.activation.ReLU'>.\n",
      "\u001b[91m[WARN] Cannot find rule for <class 'timedenoiser.models.encdec.EncDecDiagBiRNNSkip'>. Treat it as zero Macs and zero Params.\u001b[00m\n",
      "60 310468.0 25353680.0 620228.0 51107280.0\n",
      "[INFO] Register count_convNd() for <class 'torch.nn.modules.conv.Conv1d'>.\n",
      "[INFO] Register count_convNd() for <class 'torch.nn.modules.conv.ConvTranspose1d'>.\n",
      "[INFO] Register zero_ops() for <class 'torch.nn.modules.activation.ReLU'>.\n",
      "\u001b[91m[WARN] Cannot find rule for <class 'timedenoiser.models.encdec.ShallowEncDec'>. Treat it as zero Macs and zero Params.\u001b[00m\n",
      "[INFO] Register count_convNd() for <class 'torch.nn.modules.conv.Conv1d'>.\n",
      "\u001b[91m[WARN] Cannot find rule for <class 'torch.nn.modules.activation.Tanh'>. Treat it as zero Macs and zero Params.\u001b[00m\n",
      "\u001b[91m[WARN] Cannot find rule for <class 'timedenoiser.models.indrnn.IndRNNCell'>. Treat it as zero Macs and zero Params.\u001b[00m\n",
      "\u001b[91m[WARN] Cannot find rule for <class 'timedenoiser.models.indrnn.IndRNN'>. Treat it as zero Macs and zero Params.\u001b[00m\n",
      "[INFO] Register count_convNd() for <class 'torch.nn.modules.conv.ConvTranspose1d'>.\n",
      "[INFO] Register zero_ops() for <class 'torch.nn.modules.activation.ReLU'>.\n",
      "\u001b[91m[WARN] Cannot find rule for <class 'timedenoiser.models.encdec.EncDecDiagBiRNNSkip'>. Treat it as zero Macs and zero Params.\u001b[00m\n",
      "70 310468.0 25353680.0 620228.0 51107280.0\n",
      "[INFO] Register count_convNd() for <class 'torch.nn.modules.conv.Conv1d'>.\n",
      "[INFO] Register count_convNd() for <class 'torch.nn.modules.conv.ConvTranspose1d'>.\n",
      "[INFO] Register zero_ops() for <class 'torch.nn.modules.activation.ReLU'>.\n",
      "\u001b[91m[WARN] Cannot find rule for <class 'timedenoiser.models.encdec.ShallowEncDec'>. Treat it as zero Macs and zero Params.\u001b[00m\n",
      "[INFO] Register count_convNd() for <class 'torch.nn.modules.conv.Conv1d'>.\n",
      "\u001b[91m[WARN] Cannot find rule for <class 'torch.nn.modules.activation.Tanh'>. Treat it as zero Macs and zero Params.\u001b[00m\n",
      "\u001b[91m[WARN] Cannot find rule for <class 'timedenoiser.models.indrnn.IndRNNCell'>. Treat it as zero Macs and zero Params.\u001b[00m\n",
      "\u001b[91m[WARN] Cannot find rule for <class 'timedenoiser.models.indrnn.IndRNN'>. Treat it as zero Macs and zero Params.\u001b[00m\n",
      "[INFO] Register count_convNd() for <class 'torch.nn.modules.conv.ConvTranspose1d'>.\n",
      "[INFO] Register zero_ops() for <class 'torch.nn.modules.activation.ReLU'>.\n",
      "\u001b[91m[WARN] Cannot find rule for <class 'timedenoiser.models.encdec.EncDecDiagBiRNNSkip'>. Treat it as zero Macs and zero Params.\u001b[00m\n",
      "80 310468.0 25353680.0 620228.0 51107280.0\n",
      "[INFO] Register count_convNd() for <class 'torch.nn.modules.conv.Conv1d'>.\n",
      "[INFO] Register count_convNd() for <class 'torch.nn.modules.conv.ConvTranspose1d'>.\n",
      "[INFO] Register zero_ops() for <class 'torch.nn.modules.activation.ReLU'>.\n",
      "\u001b[91m[WARN] Cannot find rule for <class 'timedenoiser.models.encdec.ShallowEncDec'>. Treat it as zero Macs and zero Params.\u001b[00m\n",
      "[INFO] Register count_convNd() for <class 'torch.nn.modules.conv.Conv1d'>.\n",
      "\u001b[91m[WARN] Cannot find rule for <class 'torch.nn.modules.activation.Tanh'>. Treat it as zero Macs and zero Params.\u001b[00m\n",
      "\u001b[91m[WARN] Cannot find rule for <class 'timedenoiser.models.indrnn.IndRNNCell'>. Treat it as zero Macs and zero Params.\u001b[00m\n",
      "\u001b[91m[WARN] Cannot find rule for <class 'timedenoiser.models.indrnn.IndRNN'>. Treat it as zero Macs and zero Params.\u001b[00m\n",
      "[INFO] Register count_convNd() for <class 'torch.nn.modules.conv.ConvTranspose1d'>.\n",
      "[INFO] Register zero_ops() for <class 'torch.nn.modules.activation.ReLU'>.\n",
      "\u001b[91m[WARN] Cannot find rule for <class 'timedenoiser.models.encdec.EncDecDiagBiRNNSkip'>. Treat it as zero Macs and zero Params.\u001b[00m\n",
      "90 310468.0 25353680.0 620228.0 51107280.0\n"
     ]
    }
   ],
   "source": [
    "for i in [60, 70, 80, 90]:\n",
    "    denoiser = ShallowEncDec(4, 4)\n",
    "    \n",
    "    for name, module in denoiser.named_modules():\n",
    "        if isinstance(module, torch.nn.Conv2d):\n",
    "            prune.l1_unstructured(module, name='weight', amount=i/100)\n",
    "        elif isinstance(module, torch.nn.Linear):\n",
    "            prune.l1_unstructured(module, name='weight', amount=i/100)\n",
    "            \n",
    "    inp = torch.randn(1, 4, 100)\n",
    "#     macs1, params1 = profile(denoiser, inputs=(inp, ))\n",
    "    params1 = print_nonzeros(denoiser)\n",
    "    \n",
    "    speedtorque = EncDecDiagBiRNNSkip(4, 4)\n",
    "    \n",
    "    for name, module in speedtorque.named_modules():\n",
    "        if isinstance(module, torch.nn.Conv2d):\n",
    "            prune.l1_unstructured(module, name='weight', amount=i/100)\n",
    "        elif isinstance(module, torch.nn.Linear):\n",
    "            prune.l1_unstructured(module, name='weight', amount=i/100)\n",
    "            \n",
    "    inp = torch.randn(1, 4, 100)\n",
    "    params2 = print_nonzeros(speedtorque)\n",
    "#     macs2, params2 = profile(speedtorque, inputs=(inp, ))\n",
    "    \n",
    "    print (i, params1, macs1, params2, macs2)"
   ]
  },
  {
   "cell_type": "code",
   "execution_count": null,
   "id": "32fb1212-2fbf-400a-8957-0f1b900c3f0f",
   "metadata": {},
   "outputs": [],
   "source": []
  }
 ],
 "metadata": {
  "kernelspec": {
   "display_name": "Python 3",
   "language": "python",
   "name": "python3"
  },
  "language_info": {
   "codemirror_mode": {
    "name": "ipython",
    "version": 3
   },
   "file_extension": ".py",
   "mimetype": "text/x-python",
   "name": "python",
   "nbconvert_exporter": "python",
   "pygments_lexer": "ipython3",
   "version": "3.8.5"
  }
 },
 "nbformat": 4,
 "nbformat_minor": 5
}
