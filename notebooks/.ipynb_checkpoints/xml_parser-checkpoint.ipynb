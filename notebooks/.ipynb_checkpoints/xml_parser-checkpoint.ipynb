{
 "cells": [
  {
   "cell_type": "code",
   "execution_count": 150,
   "metadata": {},
   "outputs": [],
   "source": [
    "import matplotlib.pyplot as plt\n",
    "import sys \n",
    "\n",
    "from math import ceil \n",
    "\n",
    "import numpy as np\n",
    "\n",
    "from scipy.io import savemat, loadmat\n",
    "from scipy.signal import resample\n",
    "from scipy.interpolate import interp1d\n",
    "\n",
    "from operator import itemgetter"
   ]
  },
  {
   "cell_type": "code",
   "execution_count": 151,
   "metadata": {},
   "outputs": [],
   "source": [
    "def smooth(x,window_len,window):\n",
    "    \"\"\"smooth the data using a window with requested size.\n",
    "    \n",
    "    This method is based on the convolution of a scaled window with the signal.\n",
    "    The signal is prepared by introducing reflected copies of the signal \n",
    "    (with the window size) in both ends so that transient parts are minimized\n",
    "    in the begining and end part of the output signal.\n",
    "    \n",
    "    input:\n",
    "        x: the input signal \n",
    "        window_len: the dimension of the smoothing window; should be an odd integer\n",
    "        window: the type of window from 'flat', 'hanning', 'hamming', 'bartlett', 'blackman'\n",
    "            flat window will produce a moving average smoothing.\n",
    "\n",
    "    output:\n",
    "        the smoothed signal\n",
    "        \n",
    "    example:\n",
    "\n",
    "    t=linspace(-2,2,0.1)\n",
    "    x=sin(t)+randn(len(t))*0.1\n",
    "    y=smooth(x)\n",
    "    \n",
    "    see also: \n",
    "    \n",
    "    numpy.hanning, numpy.hamming, numpy.bartlett, numpy.blackman, numpy.convolve\n",
    "    scipy.signal.lfilter\n",
    " \n",
    "    TODO: the window parameter could be the window itself if an array instead of a string\n",
    "    NOTE: length(output) != length(input), to correct this: return y[(window_len/2-1):-(window_len/2)] instead of just y.\n",
    "    \"\"\"\n",
    "\n",
    "    if x.ndim != 1:\n",
    "        raise (ValueError, \"smooth only accepts 1 dimension arrays.\")\n",
    "\n",
    "    if x.size < window_len:\n",
    "        raise (ValueError, \"Input vector needs to be bigger than window size.\")\n",
    "\n",
    "\n",
    "    if window_len<3:\n",
    "        return x\n",
    "\n",
    "\n",
    "    if not window in ['flat', 'hanning', 'hamming', 'bartlett', 'blackman']:\n",
    "        raise (ValueError, \"Window is on of 'flat', 'hanning', 'hamming', 'bartlett', 'blackman'\")\n",
    "\n",
    "\n",
    "    s=np.r_[x[window_len-1:0:-1],x,x[-2:-window_len-1:-1]]\n",
    "    #print(len(s))\n",
    "    if window == 'flat': #moving average\n",
    "        w=np.ones(window_len,'d')\n",
    "    else:\n",
    "        w=eval('np.'+window+'(window_len)')\n",
    "\n",
    "    y=np.convolve(w/w.sum(),s,mode='valid')\n",
    "    return y"
   ]
  },
  {
   "cell_type": "code",
   "execution_count": 166,
   "metadata": {},
   "outputs": [],
   "source": [
    "filename = '../../../datasets/Data_27012021_noisy/benchmark/torque_step_0-100_50Hz_closed_loop.mat'\n",
    "data = loadmat(filename)"
   ]
  },
  {
   "cell_type": "code",
   "execution_count": 167,
   "metadata": {},
   "outputs": [],
   "source": [
    "speed = data['ans'][:, 0]\n",
    "torque = data['ans'][:, 1]\n",
    "var_q = data['ans'][:, 2]\n",
    "var_d = data['ans'][:, 3]\n",
    "time = np.arange(0, var_d.shape[0] * 0.002, 0.002)"
   ]
  },
  {
   "cell_type": "code",
   "execution_count": 168,
   "metadata": {},
   "outputs": [],
   "source": [
    "current_q = []\n",
    "current_q_time = []\n",
    "voltage_q = []\n",
    "voltage_q_time = []\n",
    "\n",
    "w = 50\n",
    "\n",
    "for i in range(0, var_q.shape[0], w):\n",
    "    curr_idx = np.where(var_q[i:i+w] < np.mean(var_q[i:i+w]))[0]\n",
    "    volt_idx = np.where(var_q[i:i+w] >= np.mean(var_q[i:i+w]))[0]\n",
    "    \n",
    "    if len(curr_idx) == 0:\n",
    "        current_q_time += list(time[i:i+w][volt_idx])\n",
    "        current_q += list(var_q[i:i+w][volt_idx])\n",
    "        voltage_q_time += list(time[i:i+w][volt_idx])\n",
    "        voltage_q += list(var_q[i:i+w][volt_idx])\n",
    "    elif len(volt_idx) == 0:\n",
    "        current_q_time += list(time[i:i+w][curr_idx])\n",
    "        current_q += list(var_q[i:i+w][curr_idx])\n",
    "        voltage_q_time += list(time[i:i+w][curr_idx])\n",
    "        voltage_q += list(var_q[i:i+w][curr_idx])\n",
    "    else:\n",
    "        current_q_time += list(time[i:i+w][curr_idx])\n",
    "        current_q += list(var_q[i:i+w][curr_idx])\n",
    "        voltage_q_time += list(time[i:i+w][volt_idx])\n",
    "        voltage_q += list(var_q[i:i+w][volt_idx])\n",
    "        \n",
    "        \n",
    "current_d = []\n",
    "current_d_time = []\n",
    "voltage_d = []\n",
    "voltage_d_time = []\n",
    "\n",
    "for i in range(0, var_d.shape[0], w):\n",
    "    curr_idx = np.where(var_d[i:i+w] < np.mean(var_d[i:i+w]))[0]\n",
    "    volt_idx = np.where(var_d[i:i+w] >= np.mean(var_d[i:i+w]))[0]\n",
    "    \n",
    "    if len(curr_idx) == 0:\n",
    "        current_d_time += list(time[i:i+w][volt_idx])\n",
    "        current_d += list(var_d[i:i+w][volt_idx])\n",
    "        voltage_d_time += list(time[i:i+w][volt_idx])\n",
    "        voltage_d += list(var_d[i:i+w][volt_idx])\n",
    "    elif len(volt_idx) == 0:\n",
    "        current_d_time += list(time[i:i+w][curr_idx])\n",
    "        current_d += list(var_d[i:i+w][curr_idx])\n",
    "        voltage_d_time += list(time[i:i+w][curr_idx])\n",
    "        voltage_d += list(var_d[i:i+w][curr_idx])\n",
    "    else:\n",
    "        current_d_time += list(time[i:i+w][curr_idx])\n",
    "        current_d += list(var_d[i:i+w][curr_idx])\n",
    "        voltage_d_time += list(time[i:i+w][volt_idx])\n",
    "        voltage_d += list(var_d[i:i+w][volt_idx])\n",
    "        \n",
    "current_d = np.asarray(current_d)\n",
    "voltage_d = np.asarray(voltage_d)\n",
    "\n",
    "current_q = np.asarray(current_q)\n",
    "voltage_q = np.asarray(voltage_q)\n",
    "\n",
    "current_d_time = np.asarray(current_d_time)\n",
    "voltage_d_time = np.asarray(voltage_d_time)\n",
    "\n",
    "current_q_time = np.asarray(current_q_time)\n",
    "voltage_q_time = np.asarray(voltage_q_time)"
   ]
  },
  {
   "cell_type": "code",
   "execution_count": 169,
   "metadata": {},
   "outputs": [],
   "source": [
    "def ResampleLinear1D(original, targetLen):\n",
    "    original = np.array(original, dtype=np.float)\n",
    "    index_arr = np.linspace(0, len(original)-1, num=targetLen, dtype=np.float)\n",
    "    index_floor = np.array(index_arr, dtype=np.int) #Round down\n",
    "    index_ceil = index_floor + 1\n",
    "    index_rem = index_arr - index_floor #Remain\n",
    "\n",
    "    val1 = original[index_floor]\n",
    "    val2 = original[index_ceil % len(original)]\n",
    "    interp = val1 * (1.0-index_rem) + val2 * index_rem\n",
    "    assert(len(interp) == targetLen)\n",
    "    return interp"
   ]
  },
  {
   "cell_type": "code",
   "execution_count": 170,
   "metadata": {},
   "outputs": [
    {
     "name": "stderr",
     "output_type": "stream",
     "text": [
      "<ipython-input-169-40ee879e793f>:2: DeprecationWarning: `np.float` is a deprecated alias for the builtin `float`. To silence this warning, use `float` by itself. Doing this will not modify any behavior and is safe. If you specifically wanted the numpy scalar type, use `np.float64` here.\n",
      "Deprecated in NumPy 1.20; for more details and guidance: https://numpy.org/devdocs/release/1.20.0-notes.html#deprecations\n",
      "  original = np.array(original, dtype=np.float)\n",
      "<ipython-input-169-40ee879e793f>:3: DeprecationWarning: `np.float` is a deprecated alias for the builtin `float`. To silence this warning, use `float` by itself. Doing this will not modify any behavior and is safe. If you specifically wanted the numpy scalar type, use `np.float64` here.\n",
      "Deprecated in NumPy 1.20; for more details and guidance: https://numpy.org/devdocs/release/1.20.0-notes.html#deprecations\n",
      "  index_arr = np.linspace(0, len(original)-1, num=targetLen, dtype=np.float)\n",
      "<ipython-input-169-40ee879e793f>:4: DeprecationWarning: `np.int` is a deprecated alias for the builtin `int`. To silence this warning, use `int` by itself. Doing this will not modify any behavior and is safe. When replacing `np.int`, you may wish to use e.g. `np.int64` or `np.int32` to specify the precision. If you wish to review your current use, check the release note link for additional information.\n",
      "Deprecated in NumPy 1.20; for more details and guidance: https://numpy.org/devdocs/release/1.20.0-notes.html#deprecations\n",
      "  index_floor = np.array(index_arr, dtype=np.int) #Round down\n"
     ]
    }
   ],
   "source": [
    "f = interp1d(np.arange(current_d_time.shape[0]), current_d, 'quadratic')\n",
    "current_d = ResampleLinear1D(current_d, time.shape[0])\n",
    "\n",
    "f = interp1d(np.arange(current_q_time.shape[0]), current_q, 'quadratic')\n",
    "current_q = ResampleLinear1D(current_q, time.shape[0])\n",
    "\n",
    "f = interp1d(np.arange(voltage_d_time.shape[0]), voltage_d, 'quadratic')\n",
    "voltage_d = ResampleLinear1D(voltage_d, time.shape[0])\n",
    "\n",
    "f = interp1d(np.arange(voltage_q_time.shape[0]), voltage_q, 'quadratic')\n",
    "voltage_q = ResampleLinear1D(voltage_q, time.shape[0])\n",
    "\n",
    "w = 51\n",
    "w_t = \"hamming\"\n",
    "denoised_speed = smooth(speed, window_len=w, window=w_t)[w//2:-1*w//2+1]\n",
    "denoised_torque = smooth(torque, window_len=w, window=w_t)[w//2:-1*w//2+1]"
   ]
  },
  {
   "cell_type": "code",
   "execution_count": 171,
   "metadata": {},
   "outputs": [
    {
     "data": {
      "text/plain": [
       "Text(0.5, 1.0, '$u_q$')"
      ]
     },
     "execution_count": 171,
     "metadata": {},
     "output_type": "execute_result"
    },
    {
     "data": {
      "image/png": "[encoded data removed]",
      "text/plain": [
       "<Figure size 1080x360 with 6 Axes>"
      ]
     },
     "metadata": {
      "needs_background": "light"
     },
     "output_type": "display_data"
    }
   ],
   "source": [
    "fig = plt.figure(figsize=(15, 5))\n",
    "plt.subplot(2, 3, 1)\n",
    "plt.plot(time, speed, label='Raw')\n",
    "plt.plot(time, denoised_speed, label='Recon')\n",
    "plt.title(r\"$\\omega_r$\")\n",
    "plt.subplot(2, 3, 2)\n",
    "plt.plot(time, torque, label='Raw')\n",
    "plt.plot(time, denoised_torque, label='Recon')\n",
    "plt.title(r\"$\\tau_{em}$\")\n",
    "plt.subplot(2, 3, 3)\n",
    "plt.plot(time, current_d)\n",
    "plt.title(r\"$i_d$\")\n",
    "plt.subplot(2, 3, 4)\n",
    "plt.plot(time, voltage_d)\n",
    "plt.title(r\"$u_d$\")\n",
    "plt.subplot(2, 3, 5)\n",
    "plt.plot(time, current_q)\n",
    "plt.title(r\"$i_q$\")\n",
    "plt.subplot(2, 3, 6)\n",
    "plt.plot(time, voltage_q)\n",
    "plt.title(r\"$u_q$\")"
   ]
  },
  {
   "cell_type": "code",
   "execution_count": 172,
   "metadata": {},
   "outputs": [],
   "source": [
    "savemat(filename.replace('.mat','_mod.mat'),\n",
    "       {'noisy_speed': speed, 'noisy_torque': torque, \n",
    "        'noisy_current_d': current_d, 'noisy_voltage_d': voltage_d, \n",
    "        'noisy_current_q': current_q, 'noisy_voltage_q': voltage_q, \n",
    "        'speed': speed, 'torque': torque, 'time': time})"
   ]
  },
  {
   "cell_type": "code",
   "execution_count": null,
   "metadata": {},
   "outputs": [],
   "source": []
  }
 ],
 "metadata": {
  "kernelspec": {
   "display_name": "Python 3",
   "language": "python",
   "name": "python3"
  },
  "language_info": {
   "codemirror_mode": {
    "name": "ipython",
    "version": 3
   },
   "file_extension": ".py",
   "mimetype": "text/x-python",
   "name": "python",
   "nbconvert_exporter": "python",
   "pygments_lexer": "ipython3",
   "version": "3.8.5"
  }
 },
 "nbformat": 4,
 "nbformat_minor": 4
}
