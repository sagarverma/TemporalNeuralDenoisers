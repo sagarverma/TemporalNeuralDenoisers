{
 "cells": [
  {
   "cell_type": "code",
   "execution_count": 31,
   "id": "49e69274-dd42-4d10-832c-edec28d5c88b",
   "metadata": {},
   "outputs": [],
   "source": [
    "from thop import profile\n",
    "import torch\n",
    "import torch.nn.utils.prune as prune\n",
    "import numpy as np\n",
    "\n",
    "from timedenoiser.models.encdec import ShallowEncDec, EncDecDiagBiRNNSkip"
   ]
  },
  {
   "cell_type": "code",
   "execution_count": 37,
   "id": "cd7f4ff1-f3d8-479f-bdec-1cf65a1e2eb3",
   "metadata": {},
   "outputs": [],
   "source": [
    "def print_nonzeros(model):\n",
    "    nonzero = total = 0\n",
    "    for name, p in model.named_parameters():\n",
    "        if 'mask' in name:\n",
    "            continue\n",
    "        tensor = p.data.cpu().numpy()\n",
    "        nz_count = np.count_nonzero(tensor)\n",
    "        total_params = np.prod(tensor.shape)\n",
    "        nonzero += nz_count\n",
    "        total += total_params\n",
    "#         print(f\"{name:20} | nonzeros = {nz_count:7} / {total_params:7}\" +\n",
    "#               f\"({100 * nz_count / total_params:6.2f}%) | total_pruned =\" +\n",
    "#               f\"{total_params - nz_count :7} | shape = {tensor.shape}\")\n",
    "    print(f\"alive: {nonzero}, pruned : {total - nonzero},\" +\n",
    "          f\"total: {total}, Compression rate : {total/nonzero:10.2f}x\" +\n",
    "          f\"({100 * (total-nonzero) / total:6.2f}% pruned)\")"
   ]
  },
  {
   "cell_type": "code",
   "execution_count": 38,
   "id": "1f9ae0a9-97b2-40fe-a4e0-80d6bd2cb620",
   "metadata": {},
   "outputs": [
    {
     "data": {
      "text/plain": [
       "(51107280.0, 620228.0)"
      ]
     },
     "execution_count": 38,
     "metadata": {},
     "output_type": "execute_result"
    }
   ],
   "source": [
    "macs, params"
   ]
  },
  {
   "cell_type": "code",
   "execution_count": 39,
   "id": "1ea59f14-3a3c-4b03-8813-c0d6450eda42",
   "metadata": {},
   "outputs": [
    {
     "name": "stdout",
     "output_type": "stream",
     "text": [
      "[INFO] Register count_convNd() for <class 'torch.nn.modules.conv.Conv1d'>.\n",
      "\u001b[91m[WARN] Cannot find rule for <class 'torch.nn.modules.activation.Tanh'>. Treat it as zero Macs and zero Params.\u001b[00m\n",
      "\u001b[91m[WARN] Cannot find rule for <class 'timedenoiser.models.indrnn.IndRNNCell'>. Treat it as zero Macs and zero Params.\u001b[00m\n",
      "\u001b[91m[WARN] Cannot find rule for <class 'timedenoiser.models.indrnn.IndRNN'>. Treat it as zero Macs and zero Params.\u001b[00m\n",
      "[INFO] Register count_convNd() for <class 'torch.nn.modules.conv.ConvTranspose1d'>.\n",
      "[INFO] Register zero_ops() for <class 'torch.nn.modules.activation.ReLU'>.\n",
      "\u001b[91m[WARN] Cannot find rule for <class 'timedenoiser.models.encdec.EncDecDiagBiRNNSkip'>. Treat it as zero Macs and zero Params.\u001b[00m\n"
     ]
    }
   ],
   "source": [
    "speedtorque = EncDecDiagBiRNNSkip(4, 4)\n",
    "inp = torch.randn(1, 4, 100)\n",
    "macs, params = profile(speedtorque, inputs=(inp, ))"
   ]
  },
  {
   "cell_type": "code",
   "execution_count": 53,
   "id": "52d9d7e8-144e-45a1-aa98-597a0fab91b3",
   "metadata": {},
   "outputs": [
    {
     "name": "stdout",
     "output_type": "stream",
     "text": [
      "[INFO] Register count_convNd() for <class 'torch.nn.modules.conv.Conv1d'>.\n",
      "[INFO] Register count_convNd() for <class 'torch.nn.modules.conv.ConvTranspose1d'>.\n",
      "[INFO] Register zero_ops() for <class 'torch.nn.modules.activation.ReLU'>.\n",
      "\u001b[91m[WARN] Cannot find rule for <class 'timedenoiser.models.encdec.ShallowEncDec'>. Treat it as zero Macs and zero Params.\u001b[00m\n",
      "[INFO] Register count_convNd() for <class 'torch.nn.modules.conv.Conv1d'>.\n",
      "\u001b[91m[WARN] Cannot find rule for <class 'torch.nn.modules.activation.Tanh'>. Treat it as zero Macs and zero Params.\u001b[00m\n",
      "\u001b[91m[WARN] Cannot find rule for <class 'timedenoiser.models.indrnn.IndRNNCell'>. Treat it as zero Macs and zero Params.\u001b[00m\n",
      "\u001b[91m[WARN] Cannot find rule for <class 'timedenoiser.models.indrnn.IndRNN'>. Treat it as zero Macs and zero Params.\u001b[00m\n",
      "[INFO] Register count_convNd() for <class 'torch.nn.modules.conv.ConvTranspose1d'>.\n",
      "[INFO] Register zero_ops() for <class 'torch.nn.modules.activation.ReLU'>.\n",
      "\u001b[91m[WARN] Cannot find rule for <class 'timedenoiser.models.encdec.EncDecDiagBiRNNSkip'>. Treat it as zero Macs and zero Params.\u001b[00m\n",
      "60 310468.0 25353680.0 620228.0 51107280.0\n",
      "[INFO] Register count_convNd() for <class 'torch.nn.modules.conv.Conv1d'>.\n",
      "[INFO] Register count_convNd() for <class 'torch.nn.modules.conv.ConvTranspose1d'>.\n",
      "[INFO] Register zero_ops() for <class 'torch.nn.modules.activation.ReLU'>.\n",
      "\u001b[91m[WARN] Cannot find rule for <class 'timedenoiser.models.encdec.ShallowEncDec'>. Treat it as zero Macs and zero Params.\u001b[00m\n",
      "[INFO] Register count_convNd() for <class 'torch.nn.modules.conv.Conv1d'>.\n",
      "\u001b[91m[WARN] Cannot find rule for <class 'torch.nn.modules.activation.Tanh'>. Treat it as zero Macs and zero Params.\u001b[00m\n",
      "\u001b[91m[WARN] Cannot find rule for <class 'timedenoiser.models.indrnn.IndRNNCell'>. Treat it as zero Macs and zero Params.\u001b[00m\n",
      "\u001b[91m[WARN] Cannot find rule for <class 'timedenoiser.models.indrnn.IndRNN'>. Treat it as zero Macs and zero Params.\u001b[00m\n",
      "[INFO] Register count_convNd() for <class 'torch.nn.modules.conv.ConvTranspose1d'>.\n",
      "[INFO] Register zero_ops() for <class 'torch.nn.modules.activation.ReLU'>.\n",
      "\u001b[91m[WARN] Cannot find rule for <class 'timedenoiser.models.encdec.EncDecDiagBiRNNSkip'>. Treat it as zero Macs and zero Params.\u001b[00m\n",
      "70 310468.0 25353680.0 620228.0 51107280.0\n",
      "[INFO] Register count_convNd() for <class 'torch.nn.modules.conv.Conv1d'>.\n",
      "[INFO] Register count_convNd() for <class 'torch.nn.modules.conv.ConvTranspose1d'>.\n",
      "[INFO] Register zero_ops() for <class 'torch.nn.modules.activation.ReLU'>.\n",
      "\u001b[91m[WARN] Cannot find rule for <class 'timedenoiser.models.encdec.ShallowEncDec'>. Treat it as zero Macs and zero Params.\u001b[00m\n",
      "[INFO] Register count_convNd() for <class 'torch.nn.modules.conv.Conv1d'>.\n",
      "\u001b[91m[WARN] Cannot find rule for <class 'torch.nn.modules.activation.Tanh'>. Treat it as zero Macs and zero Params.\u001b[00m\n",
      "\u001b[91m[WARN] Cannot find rule for <class 'timedenoiser.models.indrnn.IndRNNCell'>. Treat it as zero Macs and zero Params.\u001b[00m\n",
      "\u001b[91m[WARN] Cannot find rule for <class 'timedenoiser.models.indrnn.IndRNN'>. Treat it as zero Macs and zero Params.\u001b[00m\n",
      "[INFO] Register count_convNd() for <class 'torch.nn.modules.conv.ConvTranspose1d'>.\n",
      "[INFO] Register zero_ops() for <class 'torch.nn.modules.activation.ReLU'>.\n",
      "\u001b[91m[WARN] Cannot find rule for <class 'timedenoiser.models.encdec.EncDecDiagBiRNNSkip'>. Treat it as zero Macs and zero Params.\u001b[00m\n",
      "80 310468.0 25353680.0 620228.0 51107280.0\n",
      "[INFO] Register count_convNd() for <class 'torch.nn.modules.conv.Conv1d'>.\n",
      "[INFO] Register count_convNd() for <class 'torch.nn.modules.conv.ConvTranspose1d'>.\n",
      "[INFO] Register zero_ops() for <class 'torch.nn.modules.activation.ReLU'>.\n",
      "\u001b[91m[WARN] Cannot find rule for <class 'timedenoiser.models.encdec.ShallowEncDec'>. Treat it as zero Macs and zero Params.\u001b[00m\n",
      "[INFO] Register count_convNd() for <class 'torch.nn.modules.conv.Conv1d'>.\n",
      "\u001b[91m[WARN] Cannot find rule for <class 'torch.nn.modules.activation.Tanh'>. Treat it as zero Macs and zero Params.\u001b[00m\n",
      "\u001b[91m[WARN] Cannot find rule for <class 'timedenoiser.models.indrnn.IndRNNCell'>. Treat it as zero Macs and zero Params.\u001b[00m\n",
      "\u001b[91m[WARN] Cannot find rule for <class 'timedenoiser.models.indrnn.IndRNN'>. Treat it as zero Macs and zero Params.\u001b[00m\n",
      "[INFO] Register count_convNd() for <class 'torch.nn.modules.conv.ConvTranspose1d'>.\n",
      "[INFO] Register zero_ops() for <class 'torch.nn.modules.activation.ReLU'>.\n",
      "\u001b[91m[WARN] Cannot find rule for <class 'timedenoiser.models.encdec.EncDecDiagBiRNNSkip'>. Treat it as zero Macs and zero Params.\u001b[00m\n",
      "90 310468.0 25353680.0 620228.0 51107280.0\n"
     ]
    }
   ],
   "source": [
    "for i in [60, 70, 80, 90]:\n",
    "    denoiser = ShallowEncDec(4, 4)\n",
    "    inp = torch.randn(1, 4, 100)\n",
    "    macs1, params1 = profile(denoiser, inputs=(inp, ))\n",
    "\n",
    "\n",
    "    speedtorque = EncDecDiagBiRNNSkip(4, 4)\n",
    "    inp = torch.randn(1, 4, 100)\n",
    "    macs2, params2 = profile(speedtorque, inputs=(inp, ))\n",
    "    \n",
    "    print (i, params1, macs1, params2, macs2)"
   ]
  },
  {
   "cell_type": "code",
   "execution_count": 66,
   "id": "32fb1212-2fbf-400a-8957-0f1b900c3f0f",
   "metadata": {},
   "outputs": [
    {
     "name": "stdout",
     "output_type": "stream",
     "text": [
      "60 80 90 96.5\n",
      "denoiser\n",
      "100.66183574879229 48.60314009661836 22.38599033816425 7.587198067632851\n",
      "8.205072463768117 3.961702898550725 1.8247101449275365 0.6184420289855074\n",
      "0.9238208955223882 0.9249012474012476 0.9327794522343075 0.9736068937217892\n",
      "diagbirnn\n",
      "201.00000000000003 97.05000000000001 44.7 15.150000000000002\n",
      "16.542850241545896 7.987480676328503 3.6789323671497587 1.2468864734299518\n",
      "0.050207657365347186 0.050266372141372154 0.05069453544751671 0.05291341813705376\n",
      "28.969818299805326 29.003696725571732 29.250746953217146 30.53104226508002\n"
     ]
    }
   ],
   "source": [
    "print (60, 80, 90, 96.5)\n",
    "print ('denoiser')\n",
    "print (311 * 1.34/4.14, 311 * 0.647/4.14, 311 * 0.298/4.14, 311 * 0.101/4.14)\n",
    "print (25.35 * 1.34/4.14, 25.35 * 0.647/4.14, 25.35 * 0.298/4.14, 25.35 * 0.101/4.14)\n",
    "print (0.92 * 77.37/77.05, 0.92 * 77.37/76.96, 0.92 * 77.37/76.31, 0.92 * 77.37/73.11)\n",
    "print ('diagbirnn')\n",
    "print (621 * 1.34/4.14, 621 * 0.647/4.14, 621 * 0.298/4.14, 621 * 0.101/4.14)\n",
    "print (51.11 * 1.34/4.14, 51.11 * 0.647/4.14, 51.11 * 0.298/4.14, 51.11 * 0.101/4.14)\n",
    "print (0.05 * 77.37/77.05, 0.05 * 77.37/76.96, 0.05 * 77.37/76.31, 0.05 * 77.37/73.11)\n",
    "print (28.85 * 77.37/77.05, 28.85 * 77.37/76.96, 28.85 * 77.37/76.31, 28.85 * 77.37/73.11)"
   ]
  },
  {
   "cell_type": "code",
   "execution_count": null,
   "id": "87dd1c3e-14db-41a1-9f9d-7b984bcba394",
   "metadata": {},
   "outputs": [],
   "source": []
  }
 ],
 "metadata": {
  "kernelspec": {
   "display_name": "Python 3",
   "language": "python",
   "name": "python3"
  },
  "language_info": {
   "codemirror_mode": {
    "name": "ipython",
    "version": 3
   },
   "file_extension": ".py",
   "mimetype": "text/x-python",
   "name": "python",
   "nbconvert_exporter": "python",
   "pygments_lexer": "ipython3",
   "version": "3.8.5"
  }
 },
 "nbformat": 4,
 "nbformat_minor": 5
}
